{
 "cells": [
  {
   "cell_type": "markdown",
   "metadata": {},
   "source": [
    "# Practical 5\n",
    "    Name : Yash Brahmkshatriya\n",
    "    Roll No. : 18BCE029\n",
    "    Batch : A2"
   ]
  },
  {
   "cell_type": "code",
   "execution_count": 5,
   "metadata": {},
   "outputs": [],
   "source": [
    "import numpy as np\n",
    "from sklearn import neighbors, datasets, metrics"
   ]
  },
  {
   "cell_type": "markdown",
   "metadata": {},
   "source": [
    "### Loading Dataset "
   ]
  },
  {
   "cell_type": "code",
   "execution_count": 6,
   "metadata": {},
   "outputs": [],
   "source": [
    "# Loading Irish Dataset\n",
    "X, y = datasets.load_iris(return_X_y = True)\n",
    "\n",
    "# Slicing even index rows to train\n",
    "X_train = X[range(0,150,2),:]\n",
    "y_train = y[range(0,150,2)]\n",
    "\n",
    "# Slicing odd index rows to test\n",
    "X_test = X[range(1,150,2),:]\n",
    "y_test = y[range(1,150,2)]"
   ]
  },
  {
   "cell_type": "markdown",
   "metadata": {},
   "source": [
    "### KNN using K = 3 "
   ]
  },
  {
   "cell_type": "code",
   "execution_count": 7,
   "metadata": {},
   "outputs": [
    {
     "name": "stdout",
     "output_type": "stream",
     "text": [
      "----------PREDICTIONS----------\n",
      "[0 0 0 0 0 0 0 0 0 0 0 0 0 0 0 0 0 0 0 0 0 0 0 0 0 1 1 1 1 1 1 2 1 1 1 1 1\n",
      " 1 1 1 1 2 1 1 1 1 1 1 1 1 2 2 2 2 2 2 2 2 2 1 2 2 2 2 2 2 2 2 2 2 2 2 2 2\n",
      " 2]\n",
      "-------------------------------\n",
      "Accuracy =  0.96\n",
      "\n",
      "Confusion Matrix = \n",
      " [[25  0  0]\n",
      " [ 0 23  2]\n",
      " [ 0  1 24]]\n"
     ]
    }
   ],
   "source": [
    "# Value of K (No. of nearest neighbors to be considered)\n",
    "n_neighbors = 3\n",
    "\n",
    "# normal KNN using frequency\n",
    "weights = 'uniform'\n",
    "# if weights = 'distance', then it would be distance weighted KNN\n",
    "\n",
    "clf = neighbors.KNeighborsClassifier(n_neighbors=3,weights='uniform')\n",
    "# 3rd argument is metric ,default is 'minkowski'\n",
    "# 4th arg is p(power of minkowski distance), default =2 ,which is eq. to eucledian\n",
    "\n",
    "clf.fit(X_train,y_train)\n",
    "\n",
    "prediction = clf.predict(X_test)\n",
    "\n",
    "print('----------PREDICTIONS----------')\n",
    "print(prediction)\n",
    "print('-------------------------------')\n",
    "\n",
    "print('Accuracy = ',metrics.accuracy_score(y_test, prediction, normalize=True))\n",
    "print('\\nConfusion Matrix = \\n',metrics.confusion_matrix(y_test, prediction, normalize=None))"
   ]
  },
  {
   "cell_type": "markdown",
   "metadata": {},
   "source": [
    "### KNN using K = 5"
   ]
  },
  {
   "cell_type": "code",
   "execution_count": 8,
   "metadata": {},
   "outputs": [
    {
     "name": "stdout",
     "output_type": "stream",
     "text": [
      "----------PREDICTIONS----------\n",
      "[0 0 0 0 0 0 0 0 0 0 0 0 0 0 0 0 0 0 0 0 0 0 0 0 0 1 1 1 1 1 1 1 1 1 1 1 1\n",
      " 1 1 1 1 2 1 1 1 1 1 1 1 1 2 2 2 2 2 2 2 2 2 2 2 2 2 2 2 2 2 2 2 2 2 2 2 2\n",
      " 2]\n",
      "-------------------------------\n",
      "Accuracy =  0.9866666666666667\n",
      "\n",
      "Confusion Matrix = \n",
      " [[25  0  0]\n",
      " [ 0 24  1]\n",
      " [ 0  0 25]]\n"
     ]
    }
   ],
   "source": [
    "# Value of K (No. of nearest neighbors to be considered)\n",
    "n_neighbors = 5\n",
    "\n",
    "# normal KNN using frequency\n",
    "weights = 'uniform'\n",
    "# if weights = 'distance', then it would be distance weighted KNN\n",
    "\n",
    "clf = neighbors.KNeighborsClassifier(n_neighbors=5,weights='uniform')\n",
    "# 3rd argument is metric ,default is 'minkowski'\n",
    "# 4th arg is p(power of minkowski distance), default =2 ,which is eq. to eucledian\n",
    "\n",
    "clf.fit(X_train,y_train)\n",
    "\n",
    "prediction = clf.predict(X_test)\n",
    "\n",
    "print('----------PREDICTIONS----------')\n",
    "print(prediction)\n",
    "print('-------------------------------')\n",
    "\n",
    "print('Accuracy = ',metrics.accuracy_score(y_test, prediction, normalize=True))\n",
    "print('\\nConfusion Matrix = \\n',metrics.confusion_matrix(y_test, prediction, normalize=None))"
   ]
  }
 ],
 "metadata": {
  "kernelspec": {
   "display_name": "Python 3",
   "language": "python",
   "name": "python3"
  },
  "language_info": {
   "codemirror_mode": {
    "name": "ipython",
    "version": 3
   },
   "file_extension": ".py",
   "mimetype": "text/x-python",
   "name": "python",
   "nbconvert_exporter": "python",
   "pygments_lexer": "ipython3",
   "version": "3.7.1"
  }
 },
 "nbformat": 4,
 "nbformat_minor": 2
}
