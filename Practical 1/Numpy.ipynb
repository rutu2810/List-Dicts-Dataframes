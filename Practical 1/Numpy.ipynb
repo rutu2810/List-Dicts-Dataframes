{
 "cells": [
  {
   "cell_type": "markdown",
   "metadata": {},
   "source": [
    "Import NumPy"
   ]
  },
  {
   "cell_type": "code",
   "execution_count": 4,
   "metadata": {},
   "outputs": [
    {
     "name": "stdout",
     "output_type": "stream",
     "text": [
      "[1 2 3 4 5]\n"
     ]
    }
   ],
   "source": [
    "import numpy\n",
    "\n",
    "ar = numpy.array([1, 2, 3, 4, 5])\n",
    "\n",
    "print(ar)\n"
   ]
  },
  {
   "cell_type": "code",
   "execution_count": 3,
   "metadata": {},
   "outputs": [
    {
     "name": "stdout",
     "output_type": "stream",
     "text": [
      "[1 2 3 4 5]\n"
     ]
    }
   ],
   "source": [
    "import numpy as np\n",
    "\n",
    "ar = np.array([1, 2, 3, 4, 5])\n",
    "\n",
    "print(ar)\n"
   ]
  },
  {
   "cell_type": "markdown",
   "metadata": {},
   "source": [
    "Create NumPy ndarray Object using array() function."
   ]
  },
  {
   "cell_type": "code",
   "execution_count": 10,
   "metadata": {},
   "outputs": [
    {
     "name": "stdout",
     "output_type": "stream",
     "text": [
      "[1 2 3 4 5]\n",
      "<class 'numpy.ndarray'>\n"
     ]
    }
   ],
   "source": [
    "import numpy as np\n",
    "\n",
    "ar = np.array([1, 2, 3, 4, 5])\n",
    "\n",
    "print(ar)\n",
    "\n",
    "print(type(ar)) #It tells type of object passed to it."
   ]
  },
  {
   "cell_type": "markdown",
   "metadata": {},
   "source": [
    "Dimensions in Arrays"
   ]
  },
  {
   "cell_type": "markdown",
   "metadata": {},
   "source": [
    "2-D Arrays"
   ]
  },
  {
   "cell_type": "code",
   "execution_count": 9,
   "metadata": {},
   "outputs": [
    {
     "name": "stdout",
     "output_type": "stream",
     "text": [
      "[[4 5 6]\n",
      " [7 8 9]]\n"
     ]
    }
   ],
   "source": [
    "import numpy as np\n",
    "\n",
    "ar = np.array([[4, 5, 6], [7, 8, 9]])\n",
    "\n",
    "print(ar)"
   ]
  },
  {
   "cell_type": "markdown",
   "metadata": {},
   "source": [
    "3-D arrays"
   ]
  },
  {
   "cell_type": "code",
   "execution_count": 11,
   "metadata": {},
   "outputs": [
    {
     "name": "stdout",
     "output_type": "stream",
     "text": [
      "[[[ 1  2  3]\n",
      "  [ 4  5  6]]\n",
      "\n",
      " [[ 7  8  9]\n",
      "  [40 50 60]]]\n"
     ]
    }
   ],
   "source": [
    "import numpy as np\n",
    "\n",
    "ar = np.array([[[1, 2, 3], [4, 5, 6]], [[7, 8, 9], [40, 50, 60]]])\n",
    "\n",
    "print(ar)"
   ]
  },
  {
   "cell_type": "code",
   "execution_count": 12,
   "metadata": {},
   "outputs": [
    {
     "name": "stdout",
     "output_type": "stream",
     "text": [
      "0\n",
      "1\n",
      "2\n",
      "3\n"
     ]
    }
   ],
   "source": [
    "# ndim attribute returns an integer that tells how many dimensions array have.\n",
    "import numpy as np\n",
    "\n",
    "a = np.array(10)\n",
    "b = np.array([1, 2, 3, 4, 5])\n",
    "c = np.array([[4, 5, 6], [7, 8, 9]])\n",
    "d = np.array([[[1, 2, 3], [4, 5, 6]], [[7, 8, 9], [40, 50, 60]]])\n",
    "\n",
    "print(a.ndim)\n",
    "print(b.ndim)\n",
    "print(c.ndim)\n",
    "print(d.ndim)"
   ]
  },
  {
   "cell_type": "code",
   "execution_count": 14,
   "metadata": {},
   "outputs": [
    {
     "name": "stdout",
     "output_type": "stream",
     "text": [
      "[[[[[[1 2 3 4 5]]]]]]\n",
      "Number of dimensions : 6\n"
     ]
    }
   ],
   "source": [
    "import numpy as np\n",
    "\n",
    "ar = np.array([1, 2, 3, 4,5], ndmin=6)\n",
    "\n",
    "print(ar)\n",
    "print('Number of dimensions :', ar.ndim)"
   ]
  },
  {
   "cell_type": "markdown",
   "metadata": {},
   "source": [
    "Access Array Elements"
   ]
  },
  {
   "cell_type": "code",
   "execution_count": 18,
   "metadata": {},
   "outputs": [
    {
     "name": "stdout",
     "output_type": "stream",
     "text": [
      "1\n",
      "2\n",
      "3\n",
      "4\n",
      "6\n"
     ]
    }
   ],
   "source": [
    "import numpy as np\n",
    "\n",
    "arr = np.array([1, 2, 3, 4])\n",
    "\n",
    "print(arr[0])\n",
    "print(arr[1])\n",
    "print(arr[2])\n",
    "print(arr[3])\n",
    "\n",
    "print(arr[1] + arr[3])"
   ]
  },
  {
   "cell_type": "code",
   "execution_count": 23,
   "metadata": {},
   "outputs": [
    {
     "name": "stdout",
     "output_type": "stream",
     "text": [
      "9\n"
     ]
    }
   ],
   "source": [
    "# Accessing 3-D arrays\n",
    "import numpy as np\n",
    "\n",
    "arr = np.array([[[1, 2, 3], [4, 5, 6]], [[7, 8, 9], [10, 11, 12]]])\n",
    "\n",
    "print(arr[1, 0, 2])\n"
   ]
  },
  {
   "cell_type": "code",
   "execution_count": 24,
   "metadata": {},
   "outputs": [
    {
     "name": "stdout",
     "output_type": "stream",
     "text": [
      "Last element from 2nd dim:  8\n"
     ]
    }
   ],
   "source": [
    "# Negative Indexing\n",
    "import numpy as np\n",
    "\n",
    "arr = np.array([[1,2,3,4,5], [6,7,8,9,10]])\n",
    "\n",
    "print('Last element from 2nd dim: ', arr[1, -3])\n"
   ]
  },
  {
   "cell_type": "markdown",
   "metadata": {},
   "source": [
    "Array Slicing"
   ]
  },
  {
   "cell_type": "code",
   "execution_count": 31,
   "metadata": {},
   "outputs": [
    {
     "name": "stdout",
     "output_type": "stream",
     "text": [
      "[2 3 4 5]\n",
      "[3 4 5 6 7]\n",
      "[1 2 3 4 5]\n",
      "[5 6]\n"
     ]
    }
   ],
   "source": [
    "import numpy as np\n",
    "\n",
    "ar = np.array([1, 2, 3, 4, 5, 6, 7])\n",
    "\n",
    "print(ar[1:5])\n",
    "\n",
    "print(ar[2:])#elements from index 2 to the end of the array\n",
    "\n",
    "print(ar[:5])#elements from the beginning to index 5 (not included)\n",
    "\n",
    "print(ar[-3:-1])#negative slicing"
   ]
  },
  {
   "cell_type": "code",
   "execution_count": 36,
   "metadata": {},
   "outputs": [
    {
     "name": "stdout",
     "output_type": "stream",
     "text": [
      "[2 3 4]\n",
      "[4 9]\n",
      "[[2 3 4]\n",
      " [7 8 9]]\n"
     ]
    }
   ],
   "source": [
    "# 2-D array\n",
    "import numpy as np\n",
    "\n",
    "arr = np.array([[1, 2, 3, 4, 5], [6, 7, 8, 9, 10]])\n",
    "\n",
    "print(arr[0, 1:4])#From the first element, slice elements from index 1 to index 4 \n",
    "\n",
    "print(arr[0:3, 3])#From both elements, return index 3\n",
    "\n",
    "print(arr[0:2, 1:4])#From both elements, slice index 1 to index 4 "
   ]
  },
  {
   "cell_type": "markdown",
   "metadata": {},
   "source": [
    "Copy & View"
   ]
  },
  {
   "cell_type": "code",
   "execution_count": 42,
   "metadata": {},
   "outputs": [
    {
     "name": "stdout",
     "output_type": "stream",
     "text": [
      "[10  2  3  4  5]\n",
      "[1 2 3 4 5]\n",
      "[10  2  3 40  5]\n",
      "[10  2  3 40  5]\n"
     ]
    }
   ],
   "source": [
    "import numpy as np\n",
    "\n",
    "arr = np.array([1, 2, 3, 4, 5])\n",
    "x = arr.copy()\n",
    "arr[0] = 10\n",
    "\n",
    "print(arr)\n",
    "print(x)\n",
    "\n",
    "#view\n",
    "y = arr.view()\n",
    "arr[3] = 40\n",
    "print(arr)\n",
    "print(y)"
   ]
  },
  {
   "cell_type": "markdown",
   "metadata": {},
   "source": [
    "Shape of an array"
   ]
  },
  {
   "cell_type": "code",
   "execution_count": 45,
   "metadata": {},
   "outputs": [
    {
     "name": "stdout",
     "output_type": "stream",
     "text": [
      "(2, 4)\n"
     ]
    }
   ],
   "source": [
    "#It is no. of elements in each dimension.\n",
    "import numpy as np\n",
    "\n",
    "arr = np.array([[1, 2, 3, 4], [5, 6, 7, 8]])\n",
    "\n",
    "print(arr.shape)\n"
   ]
  },
  {
   "cell_type": "code",
   "execution_count": 49,
   "metadata": {},
   "outputs": [
    {
     "name": "stdout",
     "output_type": "stream",
     "text": [
      "[[ 1  2  3]\n",
      " [ 4  5  6]\n",
      " [ 7  8  9]\n",
      " [10 11 12]]\n"
     ]
    }
   ],
   "source": [
    "#Reshaping arrays\n",
    "import numpy as np\n",
    "\n",
    "ar = np.array([1, 2, 3, 4, 5, 6, 7, 8, 9, 10, 11, 12])\n",
    "\n",
    "x = ar.reshape(4,3)\n",
    "\n",
    "print(x)"
   ]
  },
  {
   "cell_type": "code",
   "execution_count": 1,
   "metadata": {},
   "outputs": [
    {
     "name": "stdout",
     "output_type": "stream",
     "text": [
      "[1 2 4 5]\n"
     ]
    }
   ],
   "source": [
    "#Converting Multidimensional array into 1D array using reshape(-1)\n",
    "import numpy as np\n",
    "\n",
    "ar = np.array([[1, 2], [4, 5]])\n",
    "\n",
    "x = ar.reshape(-1)\n",
    "\n",
    "print(x)"
   ]
  },
  {
   "cell_type": "code",
   "execution_count": 4,
   "metadata": {},
   "outputs": [
    {
     "name": "stdout",
     "output_type": "stream",
     "text": [
      "(0,) 1\n",
      "(1,) 2\n",
      "(2,) 3\n",
      "(3,) 4\n",
      "(4,) 5\n"
     ]
    }
   ],
   "source": [
    "#Iteration using ndenumerate()\n",
    "import numpy as np\n",
    "\n",
    "ar = np.array([1, 2, 3,4,5])\n",
    "\n",
    "for idx, x in np.ndenumerate(ar):\n",
    "  print(idx , x)"
   ]
  },
  {
   "cell_type": "code",
   "execution_count": 7,
   "metadata": {},
   "outputs": [
    {
     "name": "stdout",
     "output_type": "stream",
     "text": [
      "[[1 2 5 6]\n",
      " [3 4 7 8]]\n"
     ]
    }
   ],
   "source": [
    "#Joining arrays\n",
    "import numpy as np\n",
    "\n",
    "arr1 = np.array([[1, 2], [3, 4]])\n",
    "\n",
    "arr2 = np.array([[5, 6], [7, 8]])\n",
    "\n",
    "arr = np.concatenate((arr1, arr2), axis=1)\n",
    "\n",
    "print(arr)\n"
   ]
  },
  {
   "cell_type": "code",
   "execution_count": 9,
   "metadata": {},
   "outputs": [
    {
     "name": "stdout",
     "output_type": "stream",
     "text": [
      "[array([1, 2, 3]), array([4, 5, 6])]\n"
     ]
    }
   ],
   "source": [
    "#Splitting arrays\n",
    "import numpy as np\n",
    "\n",
    "arr = np.array([1, 2, 3, 4, 5, 6])\n",
    "\n",
    "x = np.array_split(arr, 2)\n",
    "\n",
    "print(x)"
   ]
  },
  {
   "cell_type": "code",
   "execution_count": 10,
   "metadata": {},
   "outputs": [
    {
     "name": "stdout",
     "output_type": "stream",
     "text": [
      "(array([4, 6], dtype=int64),)\n"
     ]
    }
   ],
   "source": [
    "#Searching arrays\n",
    "import numpy as np\n",
    "\n",
    "arr = np.array([1, 2, 3, 4, 5, 6, 5])\n",
    "\n",
    "x = np.where(arr == 5)\n",
    "\n",
    "print(x)"
   ]
  },
  {
   "cell_type": "code",
   "execution_count": 11,
   "metadata": {},
   "outputs": [
    {
     "name": "stdout",
     "output_type": "stream",
     "text": [
      "[[2 3 4]\n",
      " [0 1 5]]\n"
     ]
    }
   ],
   "source": [
    "#Sorting arrays\n",
    "import numpy as np\n",
    "\n",
    "ar = np.array([[3, 2, 4], [5, 0, 1]])\n",
    "\n",
    "print(np.sort(ar))"
   ]
  }
 ],
 "metadata": {
  "kernelspec": {
   "display_name": "Python 3",
   "language": "python",
   "name": "python3"
  },
  "language_info": {
   "codemirror_mode": {
    "name": "ipython",
    "version": 3
   },
   "file_extension": ".py",
   "mimetype": "text/x-python",
   "name": "python",
   "nbconvert_exporter": "python",
   "pygments_lexer": "ipython3",
   "version": "3.8.5"
  }
 },
 "nbformat": 4,
 "nbformat_minor": 4
}
