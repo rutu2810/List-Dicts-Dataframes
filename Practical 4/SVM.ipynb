{
 "cells": [
  {
   "cell_type": "code",
   "execution_count": 2,
   "metadata": {},
   "outputs": [
    {
     "name": "stdout",
     "output_type": "stream",
     "text": [
      "Accuracy:  0.9666666666666667\n"
     ]
    }
   ],
   "source": [
    "# Step1: Import required packages\n",
    "from pandas import read_csv\n",
    "from sklearn.model_selection import train_test_split\n",
    "from sklearn.metrics import accuracy_score\n",
    "from sklearn.svm import SVC\n",
    "\n",
    "# Step2: Load dataset\n",
    "iris_data = read_csv('iris.csv')\n",
    "\n",
    "# Step 3: Split the data in training and testing subsets\n",
    "D = iris_data.values\n",
    "x = D[:,0:4]\n",
    "y = D[:,4]\n",
    "x_tr, x_ts, y_tr, y_ts = train_test_split(x,y,test_size=0.20)\n",
    "\n",
    "# Step 4: Classifier training using Support Vector Machine \n",
    "model = SVC()\n",
    "model.fit(x_tr,y_tr)\n",
    "\n",
    "# Step 5: Check classifier accuracy on test data and see result \n",
    "predict_flower = model.predict(x_ts)\n",
    "print(\"Accuracy: \",accuracy_score(y_ts, predict_flower))"
   ]
  },
  {
   "cell_type": "code",
   "execution_count": null,
   "metadata": {},
   "outputs": [],
   "source": []
  }
 ],
 "metadata": {
  "kernelspec": {
   "display_name": "Python 3",
   "language": "python",
   "name": "python3"
  },
  "language_info": {
   "codemirror_mode": {
    "name": "ipython",
    "version": 3
   },
   "file_extension": ".py",
   "mimetype": "text/x-python",
   "name": "python",
   "nbconvert_exporter": "python",
   "pygments_lexer": "ipython3",
   "version": "3.8.5"
  }
 },
 "nbformat": 4,
 "nbformat_minor": 4
}
