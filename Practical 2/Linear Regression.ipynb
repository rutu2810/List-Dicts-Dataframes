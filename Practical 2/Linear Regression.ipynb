{
 "cells": [
  {
   "cell_type": "code",
   "execution_count": 1,
   "metadata": {},
   "outputs": [],
   "source": [
    "import numpy as np\n",
    "from sklearn import datasets, metrics\n",
    "from sklearn.preprocessing import StandardScaler\n",
    "from numpy.linalg import inv,pinv,LinAlgError"
   ]
  },
  {
   "cell_type": "markdown",
   "metadata": {},
   "source": [
    "### Data Preparation "
   ]
  },
  {
   "cell_type": "code",
   "execution_count": 2,
   "metadata": {},
   "outputs": [
    {
     "name": "stdout",
     "output_type": "stream",
     "text": [
      "Shape of Input Train Data : (400, 14)\n",
      "Shape of Input Test Data : (106, 14)\n"
     ]
    }
   ],
   "source": [
    "idata, odata = datasets.load_boston(return_X_y = True)\n",
    "\n",
    "# Training data\n",
    "temp = idata[0:400,:]\n",
    "in_train = np.zeros((temp.shape[0],temp.shape[1]+1))\n",
    "in_train[:,0] = np.ones((temp.shape[0]))\n",
    "# added dummy column\n",
    "in_train[:,1:] = temp\n",
    "\n",
    "out_train = odata[0:400]\n",
    "\n",
    "\n",
    "# Testing data\n",
    "temp = idata[400:506,:]\n",
    "in_test = np.zeros((temp.shape[0],temp.shape[1]+1))\n",
    "in_test[:,0] = np.ones((temp.shape[0]))\n",
    "# added dummy column\n",
    "in_test[:,1:] = temp\n",
    "\n",
    "out_test = odata[400:506]\n",
    "\n",
    "print('Shape of Input Train Data : {}'.format(in_train.shape))\n",
    "print('Shape of Input Test Data : {}'.format(in_test.shape))"
   ]
  },
  {
   "cell_type": "code",
   "execution_count": 3,
   "metadata": {},
   "outputs": [
    {
     "name": "stdout",
     "output_type": "stream",
     "text": [
      "Shape of Input Train Data : (400, 14)\n",
      "Shape of Input Test Data : (106, 14)\n"
     ]
    }
   ],
   "source": [
    "# Fitting data\n",
    "scaler = StandardScaler()\n",
    "# calulating mean and std dev values\n",
    "scaler.fit(in_train[:,1:])\n",
    "# calculating z values for training dataset\n",
    "in_train[:,1:] = scaler.transform(in_train[:,1:])\n",
    "# calculating z values for testing dataset\n",
    "in_test[:,1:] = scaler.transform(in_test[:,1:])\n",
    "\n",
    "print('Shape of Input Train Data : {}'.format(in_train.shape))\n",
    "print('Shape of Input Test Data : {}'.format(in_test.shape))"
   ]
  },
  {
   "cell_type": "markdown",
   "metadata": {},
   "source": [
    "### Linear Regression using Gradient Descent "
   ]
  },
  {
   "cell_type": "code",
   "execution_count": 4,
   "metadata": {},
   "outputs": [
    {
     "name": "stdout",
     "output_type": "stream",
     "text": [
      "Thetas: [24.33348501 -1.02392755  0.92697006  0.030713    0.55318308 -1.20739345\n",
      "  3.73784288 -0.04425876 -2.5525599   2.16114583 -1.18243271 -1.6576885\n",
      "  0.04667597 -3.4584818 ]\n",
      "MAE:  4.810013930209505\n",
      "MSE:  33.36485954822415\n"
     ]
    }
   ],
   "source": [
    "thetas = np.random.uniform(0,1,in_train.shape[1])\n",
    "\n",
    "# hyperparamters\n",
    "niterations = 1000\n",
    "alpha = 0.01 # learning rate\n",
    "m = in_train.shape[0] # no of rows\n",
    "n = in_train.shape[1] # no of cols(attributes)\n",
    "\n",
    "for i in range(niterations):\n",
    "    # new values of thetas initialized to 0\n",
    "    update = np.zeros(n)\n",
    "    # output prediction of 400 houses using current vals of thetas\n",
    "    ypred = np.dot(in_train,thetas)\n",
    "    # error in prediction w.r.t ground truth\n",
    "    error = ypred - out_train\n",
    "    for j in range(n):\n",
    "        update[j] = np.sum(error * (in_train.T)[j])\n",
    "    thetas = thetas - (alpha/m)*update\n",
    "\n",
    "print('Thetas:',thetas)\n",
    "\n",
    "# testing the model with test data\n",
    "predictions = np.dot(in_test,thetas)\n",
    "\n",
    "mae = metrics.mean_absolute_error(y_true = out_test,y_pred = predictions)\n",
    "mse = metrics.mean_squared_error(y_true = out_test,y_pred = predictions)\n",
    "\n",
    "print('MAE: ',mae)\n",
    "print('MSE: ',mse)"
   ]
  },
  {
   "cell_type": "markdown",
   "metadata": {},
   "source": [
    "### Multiple Linear Regression using Normal Equation Method \n",
    "     theta = inverse(XT . X) . XT . Y"
   ]
  },
  {
   "cell_type": "code",
   "execution_count": 5,
   "metadata": {},
   "outputs": [
    {
     "name": "stdout",
     "output_type": "stream",
     "text": [
      "Thetas:  [24.3345     -1.14370921  1.12191092  0.35913222  0.48497247 -1.7061696\n",
      "  3.58169796  0.07554815 -2.8156326   3.05189603 -1.97502535 -1.7937352\n",
      " -0.05252128 -3.50239563]\n",
      "MAE:  5.142232214465328\n",
      "MSE:  37.893778599602385\n"
     ]
    }
   ],
   "source": [
    "theta = np.zeros(in_train.shape[1])\n",
    "\n",
    "try:\n",
    "    XTXi = inv(np.dot(in_train.T,in_train))\n",
    "except LinAlgError:\n",
    "    XTXi = pinv(np.dot(in_train.T,in_train))\n",
    "\n",
    "XTy = np.dot(in_train.T,out_train)\n",
    "\n",
    "theta = np.dot(XTXi, XTy)\n",
    "\n",
    "print('Thetas: ',theta)\n",
    "\n",
    "predictions = np.dot(theta, in_test.T)\n",
    "\n",
    "mae = metrics.mean_absolute_error(y_true = out_test,y_pred = predictions)\n",
    "mse = metrics.mean_squared_error(y_true = out_test,y_pred = predictions)\n",
    "\n",
    "print('MAE: ',mae)\n",
    "print('MSE: ',mse)"
   ]
  },
  {
   "cell_type": "code",
   "execution_count": null,
   "metadata": {},
   "outputs": [],
   "source": []
  }
 ],
 "metadata": {
  "kernelspec": {
   "display_name": "Python 3",
   "language": "python",
   "name": "python3"
  },
  "language_info": {
   "codemirror_mode": {
    "name": "ipython",
    "version": 3
   },
   "file_extension": ".py",
   "mimetype": "text/x-python",
   "name": "python",
   "nbconvert_exporter": "python",
   "pygments_lexer": "ipython3",
   "version": "3.8.5"
  }
 },
 "nbformat": 4,
 "nbformat_minor": 2
}
